{
 "cells": [
  {
   "cell_type": "code",
   "execution_count": 2,
   "metadata": {},
   "outputs": [],
   "source": [
    "from collections import Counter\n",
    "from itertools import chain\n",
    "import json\n",
    "import os\n",
    "import os.path as path\n",
    "import random\n",
    "import re\n",
    "from tqdm import tqdm\n",
    "\n",
    "import numpy as np\n",
    "import matplotlib.pyplot as plt\n",
    "import string\n",
    "\n",
    "import fasttext\n",
    "import spacy\n",
    "from nltk.corpus import stopwords\n",
    "\n",
    "from gensim.corpora import Dictionary\n",
    "from gensim.models.phrases import Phraser, Phrases, ENGLISH_CONNECTOR_WORDS"
   ]
  },
  {
   "cell_type": "code",
   "execution_count": 3,
   "metadata": {},
   "outputs": [],
   "source": [
    "# directories and constants\n",
    "data_dir = \"../data\"\n",
    "selfparsed_dir = path.join(data_dir, \"selfparsed\")\n",
    "GROUPS = ['other', 'sustainability']"
   ]
  },
  {
   "cell_type": "markdown",
   "metadata": {},
   "source": [
    "## NLP preparation"
   ]
  },
  {
   "cell_type": "code",
   "execution_count": 3,
   "metadata": {},
   "outputs": [
    {
     "name": "stderr",
     "output_type": "stream",
     "text": [
      "Warning : `load_model` does not return WordVectorModel or SupervisedModel any more, but a `FastText` object which is very similar.\n"
     ]
    },
    {
     "data": {
      "text/plain": [
       "<spacy.pipeline.sentencizer.Sentencizer at 0x7efc121d2fc0>"
      ]
     },
     "execution_count": 3,
     "metadata": {},
     "output_type": "execute_result"
    }
   ],
   "source": [
    "# FastText language detector\n",
    "language_detector = fasttext.load_model(\"../models/fasttext-lid.176.bin\")\n",
    "\n",
    "# define allowed POS, stopwords, and replacers\n",
    "ALLOWED_POS = set([\"ADJ\", \"ADV\", \"NOUN\", \"PROPN\", \"VERB\"]) # check this \n",
    "STOPWORDS = set(stopwords.words(\"english\"))\n",
    "REPLACER_TABLE = str.maketrans('', '', string.punctuation + string.digits)\n",
    "\n",
    "# load company aliases (to remove from text)\n",
    "with open(path.join(data_dir, \"company-aliases.txt\"), 'r') as f:\n",
    "    ALIASES = set(f.read().splitlines())\n",
    "\n",
    "# SpaCy tokenizer and POS tagger\n",
    "nlp = spacy.load(\"en_core_web_sm\", disable=[\"parser\", \"ner\"])\n",
    "nlp.add_pipe('sentencizer')"
   ]
  },
  {
   "cell_type": "markdown",
   "metadata": {},
   "source": [
    "## Functions"
   ]
  },
  {
   "cell_type": "code",
   "execution_count": 4,
   "metadata": {},
   "outputs": [],
   "source": [
    "# company aliases generator\n",
    "def create_aliases(company):\n",
    "    # return set of possible alternative names of the input company name\n",
    "    \n",
    "    # remove common unimportant components\n",
    "    no_period = re.sub(\"\\.\", \"\", company)\n",
    "    no_suffix = re.sub(\"\\s(ag|sa|ch|pte|ltd)\\s\", \" \", no_period, flags=re.I)\n",
    "    no_groups = re.sub(\"(gruppe|group|holding|international)\", \"\", no_suffix, flags=re.I)\n",
    "\n",
    "    # remove anything in brackets, e.g. 'Tetra Pak (Schweiz)' -> 'Tetra Pak'\n",
    "    no_brackets = re.sub(\"\\(.*?\\)\", \"\", no_groups)\n",
    "    no_brackets = re.sub(\"\\s{2,}\", \" \", no_brackets) # strip whitespace\n",
    "\n",
    "    # replace hyphens by space, e.g. 'u-blox' -> 'u blox'\n",
    "    no_hyphens = re.sub(\"-\", \" \", no_groups)\n",
    "    no_hyphens = re.sub(\"\\s{2,}\", \" \", no_hyphens) # strip whitespace\n",
    "\n",
    "    # assume any entirely uppercase token is an acronym, e.g. SBB\n",
    "    acronyms = [tok for tok in no_groups.split() if tok.isupper()]\n",
    "    acronyms = [re.sub(\"\\(|\\)\", \"\", tok) for tok in acronyms] # strip brackets\n",
    "    \n",
    "    # skip aliases that are extremely short\n",
    "    aliases = acronyms + [company, no_suffix, no_brackets, no_hyphens]\n",
    "    aliases = set([_.strip() for _ in aliases if len(_.strip()) > 1])\n",
    "    return list(aliases)"
   ]
  },
  {
   "cell_type": "code",
   "execution_count": 9,
   "metadata": {},
   "outputs": [],
   "source": [
    "# text file reader\n",
    "def read_texts(dir):\n",
    "    filenames = [_ for _ in os.listdir(dir) if _.endswith(\".txt\")]\n",
    "    for filename in filenames:\n",
    "        filepath = path.join(dir, filename)\n",
    "        with open(filepath, 'r') as f:\n",
    "            text = \"\".join(f.readlines())\n",
    "            if len(text) < 50:\n",
    "                print(f\"WARNING: {filepath} has <50 characters\")\n",
    "                continue\n",
    "            yield {'filename': filename, 'text': text}"
   ]
  },
  {
   "cell_type": "code",
   "execution_count": 7,
   "metadata": {},
   "outputs": [],
   "source": [
    "# language detector\n",
    "def detect_language(text, language_detector):\n",
    "    text = text.replace(\"\\n\", \" \")\n",
    "    language = language_detector.predict(text)[0][0]\n",
    "    return language"
   ]
  },
  {
   "cell_type": "code",
   "execution_count": 8,
   "metadata": {},
   "outputs": [],
   "source": [
    "# preprocessing functions\n",
    "def remove_aliases(text, aliases=ALIASES):\n",
    "    # remove all occurrences of any company aliases\n",
    "    # regex: https://stackoverflow.com/questions/6116978/how-to-replace-multiple-substrings-of-a-string\n",
    "\n",
    "    rep = {alias: \"\" for alias in aliases}\n",
    "    rep = dict((re.escape(k), v) for k, v in rep.items()) \n",
    "    pattern = re.compile(\"|\".join(rep.keys()))\n",
    "    text = pattern.sub(lambda m: rep[re.escape(m.group(0))], text)\n",
    "    return text\n",
    "\n",
    "def clean(\n",
    "    token, min_length=3, replacer_table=REPLACER_TABLE, \n",
    "    allowed_pos=ALLOWED_POS, stopwords=STOPWORDS):\n",
    "    # returns lemmatized, lowercased form of token\n",
    "\n",
    "    lemma = token.lemma_.lower().strip()\n",
    "\n",
    "    # replace any character in replacer_table by emptystring\n",
    "    lemma = lemma.translate(replacer_table)\n",
    "\n",
    "    # return emptystring for stopwords and tokens without allowed POS\n",
    "    if len(lemma) < min_length or token.pos_ not in allowed_pos or lemma in stopwords:\n",
    "        return \"\"\n",
    "    else:\n",
    "        return lemma\n",
    "\n",
    "\n",
    "def preprocess(text, nlp_model, min_token_length=3, aliases=ALIASES):\n",
    "    # returns text as a list of cleaned, tokenized paragraphs\n",
    "    \n",
    "    text = remove_aliases(text, aliases)\n",
    "    paragraphs = [para.replace(\"\\n\", \" \") for para in text.split(\"\\n\\n\")]\n",
    "\n",
    "    tokenized_doc = []\n",
    "    for para in nlp_model.pipe(paragraphs):\n",
    "        # tokenize para and skip empty tokens\n",
    "        tokenized_para = [\n",
    "            clean(token, min_length=min_token_length) for token in para]\n",
    "        tokenized_para = [token for token in tokenized_para if token]\n",
    "\n",
    "        # skip empty paras\n",
    "        if tokenized_para:\n",
    "            tokenized_doc.append(tokenized_para)\n",
    "\n",
    "    return tokenized_doc"
   ]
  },
  {
   "cell_type": "markdown",
   "metadata": {},
   "source": [
    "## Run functions"
   ]
  },
  {
   "cell_type": "code",
   "execution_count": 36,
   "metadata": {},
   "outputs": [],
   "source": [
    "# create company aliases from given company names\n",
    "if False:\n",
    "    filepath = path.join(data_dir, \"companies.txt\")\n",
    "    outpath = path.join(data_dir, \"company-aliases.txt\")\n",
    "\n",
    "    with open(filepath, 'r') as f, open(outpath, 'w') as f_out:\n",
    "        for company in f:\n",
    "            for alias in create_aliases(company):\n",
    "                print(alias, file=f_out) # NOTE: encoding?"
   ]
  },
  {
   "cell_type": "code",
   "execution_count": 74,
   "metadata": {},
   "outputs": [
    {
     "name": "stderr",
     "output_type": "stream",
     "text": [
      "121it [04:10,  2.07s/it]\n",
      "3it [00:00,  7.67it/s]"
     ]
    },
    {
     "name": "stdout",
     "output_type": "stream",
     "text": [
      "WARNING: ../data/selfparsed/sustainability/rec8VBbb582tF2Fz0.txt has <50 characters\n"
     ]
    },
    {
     "name": "stderr",
     "output_type": "stream",
     "text": [
      "134it [02:50,  1.27s/it]\n"
     ]
    }
   ],
   "source": [
    "# preprocess all english documents from each group and export\n",
    "if False:\n",
    "    for group in GROUPS:\n",
    "        # prepare output file\n",
    "        outpath = path.join(\n",
    "            selfparsed_dir, f\"preprocessed-english-{group}-noaliases.jsonl\")\n",
    "        f_out = open(outpath, 'w')\n",
    "\n",
    "        group_dir = path.join(selfparsed_dir, group)\n",
    "        for x in tqdm(read_texts(group_dir)):\n",
    "\n",
    "            # skip non-english texts\n",
    "            language = detect_language(x['text'], language_detector)\n",
    "            if language != \"__label__en\":\n",
    "                continue\n",
    "\n",
    "            x['preprocessed'] = preprocess(x['text'], nlp) # preprocess text\n",
    "            print(json.dumps(x), file=f_out) # export\n",
    "\n",
    "        f_out.close()"
   ]
  },
  {
   "cell_type": "markdown",
   "metadata": {},
   "source": [
    "## Data Exploration"
   ]
  },
  {
   "cell_type": "code",
   "execution_count": 4,
   "metadata": {},
   "outputs": [
    {
     "name": "stdout",
     "output_type": "stream",
     "text": [
      "Number of documents in other: 79\n",
      "Number of documents in sustainability: 74\n"
     ]
    }
   ],
   "source": [
    "# load data\n",
    "data = {group: [] for group in GROUPS}\n",
    "for group, group_data in data.items():\n",
    "    filepath = path.join(selfparsed_dir, f\"preprocessed-english-{group}-noaliases.jsonl\")\n",
    "\n",
    "    with open(filepath, 'r') as f:\n",
    "        for line in f:\n",
    "            x = json.loads(line)\n",
    "            group_data.append(x)\n",
    "\n",
    "    print(f\"Number of documents in {group}: {len(group_data)}\")    "
   ]
  },
  {
   "cell_type": "code",
   "execution_count": 6,
   "metadata": {},
   "outputs": [],
   "source": [
    "# TODO: find reasonable and optimal requirements on paragraph lengths\n",
    "# for now, set min length of 5 tokens and max length of 400 tokens\n",
    "for group_data in data.values():\n",
    "    for x in group_data:\n",
    "        x['preprocessed'] = [\n",
    "            para for para in x['preprocessed'] \n",
    "            if len(para) > 4 and len(para) < 400]"
   ]
  },
  {
   "cell_type": "code",
   "execution_count": 10,
   "metadata": {},
   "outputs": [
    {
     "name": "stdout",
     "output_type": "stream",
     "text": [
      "\n",
      "group: other\n",
      "sample preprocessed document:\n",
      "- corporation . piping . systems . cast . solutions . machining . solutions\n",
      "- success . stories . piping . systems . cast . solutions . machining . solutions\n",
      "- financial . report . consolidated . financial . statement . consolidated . income . statement . consolidated . balance . sheet . consolidated . statement . change . equity . consolidated . cash . flow . statement . notes . consolidated . financial . statement . information . report . performance . operate . asset . liability . capital . financial . risk . management . corporate . structure . information . report . statutory . auditor\n",
      "- financial . statement . ltd . income . statement . balance . sheet . statement . change . equity . notes . financial . statement . proposal . board . directors . report . statutory . auditor\n",
      "- key . figure . year . overview . corporation\n",
      "- corporation . piping . systems . cast . solutions . machining . solutions\n",
      "- success . stories . piping . systems . cast . solutions . machining . solutions\n",
      "- free . cash . flow . divestment . chf\n",
      "- invest . capital . return . invest . capital . roic . number . employee\n",
      "- corporation . comprise . division . piping . systems . casting . solutions . machining . solutions . found . corporation . headquarter . switzerland . present . country . company . production . facility . employee . generate . sale . chf . preferred . partner . customer . safe . transport . liquid . gas . lightweight . casting . component . high . precision . manufacturing . technology\n",
      "\n",
      "group: sustainability\n",
      "sample preprocessed document:\n",
      "- responsibility . report . summary . trafigura . group . pte\n",
      "- content . statement . executive . chairman . chief . executive . officer . responsibility . strategy . compliance . high . standard . business . conduct . society . manage . social . impact . health . safety . safe . healthy . workplace . environment . manage . environmental . risk . people . forge . responsibility . culture\n",
      "- employee . train . anti . bribery . corruption\n",
      "- employee . train . anti . money . laundering\n",
      "- scope . scope . greenhouse . gas . emission\n",
      "- aggregate . first . purchase . eiti . country\n",
      "- aggregate . first . purchase . non . eiti . country\n",
      "- employee . number . include . asset . trafigura . retain . management . control . matsa . spain . porto . sudeste . brazil . mawson . west . mine . drc . asset . deconsolidate . trafigura . balance . sheet . average . number . employee . report . vary . responsibility . report . trafigura . annual . report . cover . field . services . supervisor . midland . texas\n",
      "- statement . executive . chairman . chief . executive . officer\n",
      "- declare . intent . trafigura . group . take . leading . role . corporate . responsibility . appropriate . position . world . large . independent . trader . pleased . present . summary . trafigura . responsibility . report . report . fourth . record . progress . meet . commitment . make . operate . responsible . business . also . address . challenge . encounter . declare . intent . trafigura . group . take . leading . role . corporate . responsibility . appropriate . position . world . large . independent . trader . oil . refine . product . non . ferrous . metal . bulk . mineral . believe . underpin . ability . operate . multinational . business . also . support . commercial . objective . customer . financial . partner . expect . act . transparently . responsibly . vital . maintain . reputation . ever . important . business . success . today . world . progress . report . also . acknowledge . still . much . clear . goal . fatality . regrettably . fatality . associate . operation . key . area . focus . business . continue . prioritise . invest . improve . safety . practice . see . reduction . injury . frequency . rate . operation . make . progress . manage . extensive . network . contractor . rely . conduct . business\n"
     ]
    }
   ],
   "source": [
    "# peek at data\n",
    "for group, group_data in data.items():\n",
    "    x = group_data[0]\n",
    "    print(f\"\\ngroup: {group}\")\n",
    "    print(f\"sample preprocessed document:\")\n",
    "    for para in x['preprocessed'][:10]:\n",
    "        print(f\"- {' . '.join(para)}\")"
   ]
  },
  {
   "cell_type": "code",
   "execution_count": 11,
   "metadata": {},
   "outputs": [
    {
     "data": {
      "image/png": "[encoded data removed]",
      "text/plain": [
       "<Figure size 432x288 with 2 Axes>"
      ]
     },
     "metadata": {
      "needs_background": "light"
     },
     "output_type": "display_data"
    },
    {
     "data": {
      "image/png": "[encoded data removed]",
      "text/plain": [
       "<Figure size 432x288 with 2 Axes>"
      ]
     },
     "metadata": {
      "needs_background": "light"
     },
     "output_type": "display_data"
    },
    {
     "data": {
      "image/png": "[encoded data removed]",
      "text/plain": [
       "<Figure size 432x288 with 2 Axes>"
      ]
     },
     "metadata": {
      "needs_background": "light"
     },
     "output_type": "display_data"
    }
   ],
   "source": [
    "# length of documents and paragraphs\n",
    "f, axes = plt.subplots(1, 2, sharex=True, sharey=True)\n",
    "f.suptitle(\"Length of documents in paragraphs\")\n",
    "axes[0].set_ylabel(\"number of documents\")\n",
    "for i, group in enumerate(data.keys()):\n",
    "    num_sents = [len(x['preprocessed']) for x in data[group]]\n",
    "\n",
    "    axes[i].hist(\n",
    "        num_sents, edgecolor='black', bins=range(0, max(num_sents), 100))\n",
    "    axes[i].set_title(f\"group: {group}\")\n",
    "    axes[i].set_xlabel(\"number of paragraphs\")\n",
    "plt.tight_layout()\n",
    "plt.show()\n",
    "\n",
    "f, axes = plt.subplots(1, 2, sharex=True, sharey=True)\n",
    "f.suptitle(\"Length of documents in tokens\")\n",
    "axes[0].set_ylabel(\"number of documents\")\n",
    "for i, group in enumerate(data.keys()):\n",
    "    num_tokens = [\n",
    "        len(list(chain.from_iterable(x['preprocessed']))) \n",
    "        for x in data[group]]\n",
    "\n",
    "    axes[i].hist(\n",
    "        num_tokens, edgecolor='black', bins=range(0, max(num_tokens), 5000))\n",
    "    axes[i].set_title(f\"group: {group}\")\n",
    "    axes[i].set_xlabel(\"number of tokens\")\n",
    "plt.tight_layout()\n",
    "plt.show()\n",
    "\n",
    "f, axes = plt.subplots(1, 2, sharex=True, sharey=True)\n",
    "f.suptitle(\"Length of paragraphs in tokens\")\n",
    "axes[0].set_ylabel(\"number of paragraphs\")\n",
    "for i, group in enumerate(data.keys()):\n",
    "    para_lengths = [\n",
    "        len(para) for x in data[group] for para in x['preprocessed']]\n",
    "\n",
    "    axes[i].hist(\n",
    "        para_lengths, edgecolor='black', bins=range(0, max(para_lengths), 25))\n",
    "    axes[i].set_title(f\"group: {group}\")\n",
    "    axes[i].set_xlabel(\"number of tokens\")\n",
    "plt.tight_layout()\n",
    "plt.show()"
   ]
  },
  {
   "cell_type": "code",
   "execution_count": 12,
   "metadata": {},
   "outputs": [
    {
     "data": {
      "image/png": "[encoded data removed]",
      "text/plain": [
       "<Figure size 432x288 with 2 Axes>"
      ]
     },
     "metadata": {
      "needs_background": "light"
     },
     "output_type": "display_data"
    }
   ],
   "source": [
    "# size of document-wise vocabularies\n",
    "f, axes = plt.subplots(1, 2, sharex=True, sharey=True)\n",
    "f.suptitle(\"Number of unique tokens per document\")\n",
    "axes[0].set_ylabel(\"number of documents\")\n",
    "\n",
    "vocabulary = {}\n",
    "for i, group in enumerate(data.keys()):\n",
    "    group_vocabs = []\n",
    "    for x in data[group]:\n",
    "        tokens = [tok for para in x['preprocessed'] for tok in para]\n",
    "        group_vocabs.append(Counter(tokens))\n",
    "    vocabulary[group] = group_vocabs\n",
    "    \n",
    "    vocab_lengths = [len(v) for v in group_vocabs]\n",
    "    axes[i].hist(\n",
    "        vocab_lengths, edgecolor='black', \n",
    "        bins=range(0, max(vocab_lengths), 500))\n",
    "    axes[i].set_title(f\"group: {group}\")\n",
    "    axes[i].set_xlabel(\"number of unique tokens\")\n",
    "    \n",
    "plt.tight_layout()\n",
    "plt.show()"
   ]
  },
  {
   "cell_type": "code",
   "execution_count": 13,
   "metadata": {},
   "outputs": [
    {
     "name": "stdout",
     "output_type": "stream",
     "text": [
      "Number of unique tokens in other: 27388\n",
      "Number of unique tokens in sustainability: 25992\n"
     ]
    },
    {
     "data": {
      "image/png": "[encoded data removed]",
      "text/plain": [
       "<Figure size 576x360 with 2 Axes>"
      ]
     },
     "metadata": {
      "needs_background": "light"
     },
     "output_type": "display_data"
    }
   ],
   "source": [
    "# current number of unique tokens in all documents\n",
    "total_vocabulary = {}\n",
    "for group, group_vocabs in vocabulary.items():\n",
    "    total_group_vocab = Counter()\n",
    "    for v in group_vocabs:\n",
    "        total_group_vocab.update(v)\n",
    "    total_vocabulary[group] = total_group_vocab\n",
    "\n",
    "for group, total_group_vocab in total_vocabulary.items():\n",
    "    print(f\"Number of unique tokens in {group}: {len(total_group_vocab)}\")\n",
    "\n",
    "# most frequent tokens per group\n",
    "f, axes = plt.subplots(1, 2, figsize=(8, 5), sharex=True)\n",
    "for i, group in enumerate(total_vocabulary.keys()):\n",
    "    tokens, freq = zip(*total_vocabulary[group].most_common(20)[::-1])\n",
    "    axes[i].barh(tokens, freq)\n",
    "    \n",
    "    axes[i].set_title(f\"group: {group}\")\n",
    "    axes[i].set_xlabel(\"frequency\")\n",
    "\n",
    "f.suptitle(\"Most frequent tokens within each group\")\n",
    "plt.tight_layout()\n",
    "plt.show()"
   ]
  },
  {
   "cell_type": "code",
   "execution_count": 14,
   "metadata": {},
   "outputs": [
    {
     "name": "stdout",
     "output_type": "stream",
     "text": [
      "group: other\n",
      "Number of tokens with freq < 10: 20709\n",
      "Examples: ['stories', 'customizing', 'prefabrication', 'refurbish', 'microelectronic']\n",
      "\n",
      "group: sustainability\n",
      "Number of tokens with freq < 10: 20067\n",
      "Examples: ['porto', 'sudeste', 'deconsolidate', 'midland', 'texas']\n",
      "\n"
     ]
    }
   ],
   "source": [
    "# how many tokens appear only rarely?\n",
    "min_freq = 10\n",
    "for group, total_group_vocab in total_vocabulary.items():\n",
    "    rare_tokens = [\n",
    "        tok for tok, freq in total_group_vocab.items() if freq < min_freq\n",
    "    ]\n",
    "\n",
    "    print(f\"group: {group}\")\n",
    "    print(f\"Number of tokens with freq < {min_freq}: {len(rare_tokens)}\")\n",
    "    print(f\"Examples: {rare_tokens[:5]}\\n\")"
   ]
  },
  {
   "cell_type": "code",
   "execution_count": 15,
   "metadata": {},
   "outputs": [
    {
     "name": "stdout",
     "output_type": "stream",
     "text": [
      "\n",
      "group: other\n",
      "Size of original dictionary: 35154\n",
      "Size of filtered dictionary: 9408\n",
      "Most common words in dictionary\n",
      "[('swiss_post', 2114), ('recognize', 1233), ('postfinance', 817), ('franc', 794), ('client', 787)]\n",
      "\n",
      "group: sustainability\n",
      "Size of original dictionary: 33148\n",
      "Size of filtered dictionary: 8183\n",
      "Most common words in dictionary\n",
      "[('pmi', 1416), ('client', 1171), ('compensation', 1101), ('bank', 1043), ('und', 779)]\n"
     ]
    }
   ],
   "source": [
    "# peek at dictionary after constructing bigrams and filtering extremes\n",
    "dictionary = {}\n",
    "for group, group_data in data.items():\n",
    "    print(f\"\\ngroup: {group}\")\n",
    "    group_texts = [\n",
    "        list(chain.from_iterable(x['preprocessed'])) for x in group_data]\n",
    "\n",
    "    # create bigrams from input texts (default hyperparameters)\n",
    "    phrases = Phrases(group_texts, connector_words=ENGLISH_CONNECTOR_WORDS)\n",
    "    bigram_phraser = Phraser(phrases)\n",
    "    group_texts = [bigram_phraser[text] for text in group_texts]\n",
    "\n",
    "    # create dictionary and filter extremes\n",
    "    group_dictionary = Dictionary(group_texts)\n",
    "    print(f\"Size of original dictionary: {len(group_dictionary)}\")\n",
    "\n",
    "    group_dictionary.filter_extremes(no_below=5, no_above=0.5)\n",
    "    print(f\"Size of filtered dictionary: {len(group_dictionary)}\")\n",
    "\n",
    "    print(\"Most common words in dictionary\")\n",
    "    print(group_dictionary.most_common(5))\n",
    "\n",
    "    dictionary[group] = group_dictionary"
   ]
  },
  {
   "cell_type": "code",
   "execution_count": null,
   "metadata": {},
   "outputs": [],
   "source": []
  }
 ],
 "metadata": {
  "interpreter": {
   "hash": "c0cbf83f386be72fb09ce1533e61cd8390e8946deb354eec8506115de424271a"
  },
  "kernelspec": {
   "display_name": "Python 3.9.0 64-bit ('bizres': conda)",
   "language": "python",
   "name": "python3"
  },
  "language_info": {
   "codemirror_mode": {
    "name": "ipython",
    "version": 3
   },
   "file_extension": ".py",
   "mimetype": "text/x-python",
   "name": "python",
   "nbconvert_exporter": "python",
   "pygments_lexer": "ipython3",
   "version": "3.9.0"
  },
  "orig_nbformat": 4
 },
 "nbformat": 4,
 "nbformat_minor": 2
}
