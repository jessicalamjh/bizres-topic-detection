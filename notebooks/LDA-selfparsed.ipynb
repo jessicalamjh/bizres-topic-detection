{
 "cells": [
  {
   "cell_type": "code",
   "execution_count": 3,
   "metadata": {},
   "outputs": [],
   "source": [
    "from datetime import datetime\n",
    "import json\n",
    "import os\n",
    "import os.path as path\n",
    "from tqdm import tqdm\n",
    "\n",
    "import numpy as np\n",
    "import pandas as pd\n",
    "import matplotlib.pyplot as plt\n",
    "\n",
    "from gensim.corpora import Dictionary\n",
    "from gensim.models import LdaModel, LdaMulticore, CoherenceModel\n",
    "from gensim.models.phrases import Phraser, Phrases, ENGLISH_CONNECTOR_WORDS"
   ]
  },
  {
   "cell_type": "code",
   "execution_count": 4,
   "metadata": {},
   "outputs": [],
   "source": [
    "# directories\n",
    "output_dir = \"../output\"\n",
    "data_dir = \"../data\"\n",
    "selfparsed_dir = path.join(data_dir, \"selfparsed\")\n",
    "\n",
    "# misc\n",
    "GROUPS = ['other', 'sustainability']\n",
    "pd.set_option('display.max_colwidth', None)"
   ]
  },
  {
   "cell_type": "markdown",
   "metadata": {},
   "source": [
    "## Functions"
   ]
  },
  {
   "cell_type": "code",
   "execution_count": 5,
   "metadata": {},
   "outputs": [],
   "source": [
    "def get_timestamp():\n",
    "    return datetime.now().strftime(\"%Y-%m-%d-%H%M\")\n",
    "\n",
    "def read(filepath, max_lines=None):\n",
    "    # check arguments\n",
    "    assert path.exists(filepath)\n",
    "    if max_lines:\n",
    "        assert isinstance(max_lines, int) and max_lines > 0\n",
    "\n",
    "    print(f\"Reading {filepath}\")\n",
    "\n",
    "    # read multi-line json file\n",
    "    if filepath.endswith(\".jsonl\"):\n",
    "        data = []\n",
    "        with open(filepath, 'r') as f:\n",
    "            for i, line in enumerate(f):\n",
    "                if i == max_lines:\n",
    "                    break\n",
    "                data.append(json.loads(line))\n",
    "    \n",
    "    # read single-line json file\n",
    "    elif filepath.endswith(\".json\"):\n",
    "        with open(filepath, 'r') as f:\n",
    "            data = json.load(f)\n",
    "\n",
    "    # read possibly multi-line text file\n",
    "    elif filepath.endswith(\".txt\"):\n",
    "        with open(filepath, 'r') as f:\n",
    "            data = f.readlines()[:max_lines]\n",
    "\n",
    "    else:\n",
    "        print(f\"The extension for {filepath} is not yet handled\")\n",
    "        data = []\n",
    "    return data"
   ]
  },
  {
   "cell_type": "code",
   "execution_count": 6,
   "metadata": {},
   "outputs": [],
   "source": [
    "def process(texts, build_bigrams=True, no_below=10, no_above=0.4):\n",
    "    print(\"\\nBuilding dictionary and corpus of BoW embeddings for input texts\")\n",
    "    # returns dictionary and corpus of BoW embeddings for input texts\n",
    "\n",
    "    if build_bigrams:\n",
    "        # create bigrams from input texts (default hyperparameters)\n",
    "        phrases = Phrases(texts, connector_words=ENGLISH_CONNECTOR_WORDS)\n",
    "        bigram_phraser = Phraser(phrases)\n",
    "        texts = [bigram_phraser[text] for text in texts]\n",
    "\n",
    "    # create dictionary and filter extremes\n",
    "    dictionary = Dictionary(texts)\n",
    "    print(f\"Size of original dictionary: {len(dictionary)}\")\n",
    "\n",
    "    dictionary.filter_extremes(no_below=no_below, no_above=no_above)\n",
    "    print(f\"Size of filtered dictionary: {len(dictionary)}\")\n",
    "\n",
    "    # build corpus of BoW embeddings\n",
    "    corpus = [dictionary.doc2bow(text) for text in texts]\n",
    "\n",
    "    return dictionary, corpus"
   ]
  },
  {
   "cell_type": "code",
   "execution_count": 27,
   "metadata": {},
   "outputs": [],
   "source": [
    "# validation function for determining best num_topics\n",
    "def validate(\n",
    "    texts, corpus, dictionary, num_topics_range, \n",
    "    coherence='c_v', savepath=\"\", workers=1):\n",
    "    # return dictionary of coherence score at each num_topics value\n",
    "\n",
    "    print(f\"\\nValidating LDA model for coherence over {num_topics_range}\")\n",
    "\n",
    "    if savepath:\n",
    "        f_out = open(savepath, 'w')\n",
    "        print(f\"Validation results are exported to {savepath}\")\n",
    "\n",
    "    validation_results = []\n",
    "    for k in tqdm(num_topics_range):\n",
    "        # initialise LDA model\n",
    "        if workers == 1:\n",
    "            lda_model = LdaModel(\n",
    "                corpus=corpus, \n",
    "                id2word=dictionary,\n",
    "                num_topics=k,\n",
    "                alpha='auto',\n",
    "                eta='auto',\n",
    "                random_state=1,\n",
    "            )\n",
    "        else:\n",
    "            lda_model = LdaMulticore(\n",
    "                corpus=corpus, \n",
    "                id2word=dictionary,\n",
    "                num_topics=k,\n",
    "                workers=workers,\n",
    "                random_state=1,\n",
    "            )\n",
    "        \n",
    "        # initialise coherence evaluation model\n",
    "        coherence_model = CoherenceModel(\n",
    "            model=lda_model,\n",
    "            texts=texts,\n",
    "            dictionary=dictionary,\n",
    "            coherence=coherence,\n",
    "        )\n",
    "\n",
    "        # compute coherence and print score\n",
    "        with np.errstate(invalid='ignore'):\n",
    "            result = {\n",
    "                'num_topics': k, \n",
    "                'coherence': coherence_model.get_coherence()}\n",
    "            print(result)\n",
    "\n",
    "        # export score\n",
    "        validation_results.append(result)\n",
    "        if savepath:\n",
    "            print(json.dumps(result), file=f_out)\n",
    "\n",
    "    if savepath:\n",
    "        f_out.close()\n",
    "    return validation_results"
   ]
  },
  {
   "cell_type": "markdown",
   "metadata": {},
   "source": [
    "## Run validation"
   ]
  },
  {
   "cell_type": "code",
   "execution_count": 28,
   "metadata": {},
   "outputs": [
    {
     "name": "stdout",
     "output_type": "stream",
     "text": [
      "Reading ../data/selfparsed/preprocessed-english-other-noaliases.jsonl\n",
      "Reading ../data/selfparsed/preprocessed-english-sustainability-noaliases.jsonl\n",
      "Number of texts: 153\n"
     ]
    }
   ],
   "source": [
    "# load data\n",
    "data = []\n",
    "for group in GROUPS:\n",
    "    filepath = path.join(\n",
    "        selfparsed_dir, f\"preprocessed-english-{group}-noaliases.jsonl\")\n",
    "    group_data = read(filepath)\n",
    "    data.extend(group_data)\n",
    "\n",
    "# get texts as list of paragraphs across all documents\n",
    "print(f\"Number of texts: {len(data)}\")"
   ]
  },
  {
   "cell_type": "code",
   "execution_count": 8,
   "metadata": {},
   "outputs": [
    {
     "name": "stdout",
     "output_type": "stream",
     "text": [
      "Number of paragraphs: 72880\n"
     ]
    }
   ],
   "source": [
    "# TODO: find reasonable and optimal requirements on paragraph lengths\n",
    "# for now, set min length of 5 tokens and max length of 400 tokens\n",
    "paragraphs = []\n",
    "for text in [x['preprocessed'] for x in data]:\n",
    "    for para in text:\n",
    "        if len(para) > 4 and len(para) < 400:\n",
    "            paragraphs.append(para)\n",
    "            \n",
    "print(f\"Number of paragraphs: {len(paragraphs)}\")"
   ]
  },
  {
   "cell_type": "code",
   "execution_count": 29,
   "metadata": {},
   "outputs": [
    {
     "name": "stdout",
     "output_type": "stream",
     "text": [
      "\n",
      "Building dictionary and corpus of BoW embeddings for input texts\n",
      "Size of original dictionary: 52558\n",
      "Size of filtered dictionary: 52558\n",
      "\n",
      "Validating LDA model for coherence over range(1, 51)\n",
      "Validation results are exported to ../output/2021-12-16-0055/validation-combined-noaliases.jsonl\n"
     ]
    },
    {
     "name": "stderr",
     "output_type": "stream",
     "text": [
      "  2%|▏         | 1/50 [00:11<09:11, 11.26s/it]"
     ]
    },
    {
     "name": "stdout",
     "output_type": "stream",
     "text": [
      "{'num_topics': 1, 'coherence': 0.30911620285834}\n"
     ]
    },
    {
     "name": "stderr",
     "output_type": "stream",
     "text": [
      "  4%|▍         | 2/50 [00:40<17:14, 21.55s/it]"
     ]
    },
    {
     "name": "stdout",
     "output_type": "stream",
     "text": [
      "{'num_topics': 2, 'coherence': 0.39862787529572025}\n"
     ]
    },
    {
     "name": "stderr",
     "output_type": "stream",
     "text": [
      "  6%|▌         | 3/50 [01:14<21:37, 27.61s/it]"
     ]
    },
    {
     "name": "stdout",
     "output_type": "stream",
     "text": [
      "{'num_topics': 3, 'coherence': nan}\n"
     ]
    },
    {
     "name": "stderr",
     "output_type": "stream",
     "text": [
      "  8%|▊         | 4/50 [01:49<23:24, 30.52s/it]"
     ]
    },
    {
     "name": "stdout",
     "output_type": "stream",
     "text": [
      "{'num_topics': 4, 'coherence': nan}\n"
     ]
    },
    {
     "name": "stderr",
     "output_type": "stream",
     "text": [
      "  8%|▊         | 4/50 [01:55<22:04, 28.79s/it]\n"
     ]
    },
    {
     "ename": "KeyboardInterrupt",
     "evalue": "",
     "output_type": "error",
     "traceback": [
      "\u001b[0;31m---------------------------------------------------------------------------\u001b[0m",
      "\u001b[0;31mKeyboardInterrupt\u001b[0m                         Traceback (most recent call last)",
      "\u001b[0;32m/tmp/ipykernel_48605/3457007690.py\u001b[0m in \u001b[0;36m<module>\u001b[0;34m\u001b[0m\n\u001b[1;32m     15\u001b[0m \u001b[0;34m\u001b[0m\u001b[0m\n\u001b[1;32m     16\u001b[0m \u001b[0;31m# run validation\u001b[0m\u001b[0;34m\u001b[0m\u001b[0;34m\u001b[0m\u001b[0;34m\u001b[0m\u001b[0m\n\u001b[0;32m---> 17\u001b[0;31m validation_results = validate(\n\u001b[0m\u001b[1;32m     18\u001b[0m     \u001b[0mcorpus\u001b[0m\u001b[0;34m=\u001b[0m\u001b[0mcorpus\u001b[0m\u001b[0;34m,\u001b[0m\u001b[0;34m\u001b[0m\u001b[0;34m\u001b[0m\u001b[0m\n\u001b[1;32m     19\u001b[0m     \u001b[0mdictionary\u001b[0m\u001b[0;34m=\u001b[0m\u001b[0mdictionary\u001b[0m\u001b[0;34m,\u001b[0m\u001b[0;34m\u001b[0m\u001b[0;34m\u001b[0m\u001b[0m\n",
      "\u001b[0;32m/tmp/ipykernel_48605/3499941909.py\u001b[0m in \u001b[0;36mvalidate\u001b[0;34m(texts, corpus, dictionary, num_topics_range, coherence, savepath)\u001b[0m\n\u001b[1;32m     12\u001b[0m     \u001b[0mvalidation_results\u001b[0m \u001b[0;34m=\u001b[0m \u001b[0;34m[\u001b[0m\u001b[0;34m]\u001b[0m\u001b[0;34m\u001b[0m\u001b[0;34m\u001b[0m\u001b[0m\n\u001b[1;32m     13\u001b[0m     \u001b[0;32mfor\u001b[0m \u001b[0mk\u001b[0m \u001b[0;32min\u001b[0m \u001b[0mtqdm\u001b[0m\u001b[0;34m(\u001b[0m\u001b[0mnum_topics_range\u001b[0m\u001b[0;34m)\u001b[0m\u001b[0;34m:\u001b[0m\u001b[0;34m\u001b[0m\u001b[0;34m\u001b[0m\u001b[0m\n\u001b[0;32m---> 14\u001b[0;31m         lda_model = LdaModel(\n\u001b[0m\u001b[1;32m     15\u001b[0m             \u001b[0mcorpus\u001b[0m\u001b[0;34m=\u001b[0m\u001b[0mcorpus\u001b[0m\u001b[0;34m,\u001b[0m\u001b[0;34m\u001b[0m\u001b[0;34m\u001b[0m\u001b[0m\n\u001b[1;32m     16\u001b[0m             \u001b[0mid2word\u001b[0m\u001b[0;34m=\u001b[0m\u001b[0mdictionary\u001b[0m\u001b[0;34m,\u001b[0m\u001b[0;34m\u001b[0m\u001b[0;34m\u001b[0m\u001b[0m\n",
      "\u001b[0;32m~/miniconda3/envs/bizres/lib/python3.9/site-packages/gensim/models/ldamodel.py\u001b[0m in \u001b[0;36m__init__\u001b[0;34m(self, corpus, num_topics, id2word, distributed, chunksize, passes, update_every, alpha, eta, decay, offset, eval_every, iterations, gamma_threshold, minimum_probability, random_state, ns_conf, minimum_phi_value, per_word_topics, callbacks, dtype)\u001b[0m\n\u001b[1;32m    518\u001b[0m             \u001b[0muse_numpy\u001b[0m \u001b[0;34m=\u001b[0m \u001b[0mself\u001b[0m\u001b[0;34m.\u001b[0m\u001b[0mdispatcher\u001b[0m \u001b[0;32mis\u001b[0m \u001b[0;32mnot\u001b[0m \u001b[0;32mNone\u001b[0m\u001b[0;34m\u001b[0m\u001b[0;34m\u001b[0m\u001b[0m\n\u001b[1;32m    519\u001b[0m             \u001b[0mstart\u001b[0m \u001b[0;34m=\u001b[0m \u001b[0mtime\u001b[0m\u001b[0;34m.\u001b[0m\u001b[0mtime\u001b[0m\u001b[0;34m(\u001b[0m\u001b[0;34m)\u001b[0m\u001b[0;34m\u001b[0m\u001b[0;34m\u001b[0m\u001b[0m\n\u001b[0;32m--> 520\u001b[0;31m             \u001b[0mself\u001b[0m\u001b[0;34m.\u001b[0m\u001b[0mupdate\u001b[0m\u001b[0;34m(\u001b[0m\u001b[0mcorpus\u001b[0m\u001b[0;34m,\u001b[0m \u001b[0mchunks_as_numpy\u001b[0m\u001b[0;34m=\u001b[0m\u001b[0muse_numpy\u001b[0m\u001b[0;34m)\u001b[0m\u001b[0;34m\u001b[0m\u001b[0;34m\u001b[0m\u001b[0m\n\u001b[0m\u001b[1;32m    521\u001b[0m             self.add_lifecycle_event(\n\u001b[1;32m    522\u001b[0m                 \u001b[0;34m\"created\"\u001b[0m\u001b[0;34m,\u001b[0m\u001b[0;34m\u001b[0m\u001b[0;34m\u001b[0m\u001b[0m\n",
      "\u001b[0;32m~/miniconda3/envs/bizres/lib/python3.9/site-packages/gensim/models/ldamodel.py\u001b[0m in \u001b[0;36mupdate\u001b[0;34m(self, corpus, chunksize, decay, offset, passes, update_every, eval_every, iterations, gamma_threshold, chunks_as_numpy)\u001b[0m\n\u001b[1;32m   1003\u001b[0m                         \u001b[0mpass_\u001b[0m\u001b[0;34m,\u001b[0m \u001b[0mchunk_no\u001b[0m \u001b[0;34m*\u001b[0m \u001b[0mchunksize\u001b[0m \u001b[0;34m+\u001b[0m \u001b[0mlen\u001b[0m\u001b[0;34m(\u001b[0m\u001b[0mchunk\u001b[0m\u001b[0;34m)\u001b[0m\u001b[0;34m,\u001b[0m \u001b[0mlencorpus\u001b[0m\u001b[0;34m\u001b[0m\u001b[0;34m\u001b[0m\u001b[0m\n\u001b[1;32m   1004\u001b[0m                     )\n\u001b[0;32m-> 1005\u001b[0;31m                     \u001b[0mgammat\u001b[0m \u001b[0;34m=\u001b[0m \u001b[0mself\u001b[0m\u001b[0;34m.\u001b[0m\u001b[0mdo_estep\u001b[0m\u001b[0;34m(\u001b[0m\u001b[0mchunk\u001b[0m\u001b[0;34m,\u001b[0m \u001b[0mother\u001b[0m\u001b[0;34m)\u001b[0m\u001b[0;34m\u001b[0m\u001b[0;34m\u001b[0m\u001b[0m\n\u001b[0m\u001b[1;32m   1006\u001b[0m \u001b[0;34m\u001b[0m\u001b[0m\n\u001b[1;32m   1007\u001b[0m                     \u001b[0;32mif\u001b[0m \u001b[0mself\u001b[0m\u001b[0;34m.\u001b[0m\u001b[0moptimize_alpha\u001b[0m\u001b[0;34m:\u001b[0m\u001b[0;34m\u001b[0m\u001b[0;34m\u001b[0m\u001b[0m\n",
      "\u001b[0;32m~/miniconda3/envs/bizres/lib/python3.9/site-packages/gensim/models/ldamodel.py\u001b[0m in \u001b[0;36mdo_estep\u001b[0;34m(self, chunk, state)\u001b[0m\n\u001b[1;32m    765\u001b[0m         \u001b[0;32mif\u001b[0m \u001b[0mstate\u001b[0m \u001b[0;32mis\u001b[0m \u001b[0;32mNone\u001b[0m\u001b[0;34m:\u001b[0m\u001b[0;34m\u001b[0m\u001b[0;34m\u001b[0m\u001b[0m\n\u001b[1;32m    766\u001b[0m             \u001b[0mstate\u001b[0m \u001b[0;34m=\u001b[0m \u001b[0mself\u001b[0m\u001b[0;34m.\u001b[0m\u001b[0mstate\u001b[0m\u001b[0;34m\u001b[0m\u001b[0;34m\u001b[0m\u001b[0m\n\u001b[0;32m--> 767\u001b[0;31m         \u001b[0mgamma\u001b[0m\u001b[0;34m,\u001b[0m \u001b[0msstats\u001b[0m \u001b[0;34m=\u001b[0m \u001b[0mself\u001b[0m\u001b[0;34m.\u001b[0m\u001b[0minference\u001b[0m\u001b[0;34m(\u001b[0m\u001b[0mchunk\u001b[0m\u001b[0;34m,\u001b[0m \u001b[0mcollect_sstats\u001b[0m\u001b[0;34m=\u001b[0m\u001b[0;32mTrue\u001b[0m\u001b[0;34m)\u001b[0m\u001b[0;34m\u001b[0m\u001b[0;34m\u001b[0m\u001b[0m\n\u001b[0m\u001b[1;32m    768\u001b[0m         \u001b[0mstate\u001b[0m\u001b[0;34m.\u001b[0m\u001b[0msstats\u001b[0m \u001b[0;34m+=\u001b[0m \u001b[0msstats\u001b[0m\u001b[0;34m\u001b[0m\u001b[0;34m\u001b[0m\u001b[0m\n\u001b[1;32m    769\u001b[0m         \u001b[0mstate\u001b[0m\u001b[0;34m.\u001b[0m\u001b[0mnumdocs\u001b[0m \u001b[0;34m+=\u001b[0m \u001b[0mgamma\u001b[0m\u001b[0;34m.\u001b[0m\u001b[0mshape\u001b[0m\u001b[0;34m[\u001b[0m\u001b[0;36m0\u001b[0m\u001b[0;34m]\u001b[0m  \u001b[0;31m# avoids calling len(chunk) on a generator\u001b[0m\u001b[0;34m\u001b[0m\u001b[0;34m\u001b[0m\u001b[0m\n",
      "\u001b[0;32m~/miniconda3/envs/bizres/lib/python3.9/site-packages/gensim/models/ldamodel.py\u001b[0m in \u001b[0;36minference\u001b[0;34m(self, chunk, collect_sstats)\u001b[0m\n\u001b[1;32m    694\u001b[0m         \u001b[0mepsilon\u001b[0m \u001b[0;34m=\u001b[0m \u001b[0mnp\u001b[0m\u001b[0;34m.\u001b[0m\u001b[0mfinfo\u001b[0m\u001b[0;34m(\u001b[0m\u001b[0mself\u001b[0m\u001b[0;34m.\u001b[0m\u001b[0mdtype\u001b[0m\u001b[0;34m)\u001b[0m\u001b[0;34m.\u001b[0m\u001b[0meps\u001b[0m\u001b[0;34m\u001b[0m\u001b[0;34m\u001b[0m\u001b[0m\n\u001b[1;32m    695\u001b[0m         \u001b[0;32mfor\u001b[0m \u001b[0md\u001b[0m\u001b[0;34m,\u001b[0m \u001b[0mdoc\u001b[0m \u001b[0;32min\u001b[0m \u001b[0menumerate\u001b[0m\u001b[0;34m(\u001b[0m\u001b[0mchunk\u001b[0m\u001b[0;34m)\u001b[0m\u001b[0;34m:\u001b[0m\u001b[0;34m\u001b[0m\u001b[0;34m\u001b[0m\u001b[0m\n\u001b[0;32m--> 696\u001b[0;31m             \u001b[0;32mif\u001b[0m \u001b[0mlen\u001b[0m\u001b[0;34m(\u001b[0m\u001b[0mdoc\u001b[0m\u001b[0;34m)\u001b[0m \u001b[0;34m>\u001b[0m \u001b[0;36m0\u001b[0m \u001b[0;32mand\u001b[0m \u001b[0;32mnot\u001b[0m \u001b[0misinstance\u001b[0m\u001b[0;34m(\u001b[0m\u001b[0mdoc\u001b[0m\u001b[0;34m[\u001b[0m\u001b[0;36m0\u001b[0m\u001b[0;34m]\u001b[0m\u001b[0;34m[\u001b[0m\u001b[0;36m0\u001b[0m\u001b[0;34m]\u001b[0m\u001b[0;34m,\u001b[0m \u001b[0minteger_types\u001b[0m\u001b[0;34m)\u001b[0m\u001b[0;34m:\u001b[0m\u001b[0;34m\u001b[0m\u001b[0;34m\u001b[0m\u001b[0m\n\u001b[0m\u001b[1;32m    697\u001b[0m                 \u001b[0;31m# make sure the term IDs are ints, otherwise np will get upset\u001b[0m\u001b[0;34m\u001b[0m\u001b[0;34m\u001b[0m\u001b[0;34m\u001b[0m\u001b[0m\n\u001b[1;32m    698\u001b[0m                 \u001b[0mids\u001b[0m \u001b[0;34m=\u001b[0m \u001b[0;34m[\u001b[0m\u001b[0mint\u001b[0m\u001b[0;34m(\u001b[0m\u001b[0midx\u001b[0m\u001b[0;34m)\u001b[0m \u001b[0;32mfor\u001b[0m \u001b[0midx\u001b[0m\u001b[0;34m,\u001b[0m \u001b[0m_\u001b[0m \u001b[0;32min\u001b[0m \u001b[0mdoc\u001b[0m\u001b[0;34m]\u001b[0m\u001b[0;34m\u001b[0m\u001b[0;34m\u001b[0m\u001b[0m\n",
      "\u001b[0;31mKeyboardInterrupt\u001b[0m: "
     ]
    }
   ],
   "source": [
    "# choose num_topics based on coherence\n",
    "# if True:\n",
    "# prepare save directory and path\n",
    "save_dir = path.join(output_dir, get_timestamp())\n",
    "os.mkdir(save_dir)\n",
    "savepath = path.join(save_dir, \"validation-combined-noaliases.jsonl\")\n",
    "\n",
    "# process paragraphs as documents\n",
    "dictionary, corpus = process(\n",
    "    texts=paragraphs,\n",
    "    build_bigrams=True,\n",
    "    no_below=5,\n",
    "    no_above=0.5,\n",
    ")\n",
    "\n",
    "# run validation\n",
    "validation_results = validate(\n",
    "    corpus=corpus, \n",
    "    dictionary=dictionary, \n",
    "    texts=paragraphs, \n",
    "    num_topics_range=range(1, 51, 1),\n",
    "    coherence='c_v',\n",
    "    savepath=savepath,\n",
    ")\n",
    "    \n",
    "# export results\n",
    "with open(savepath, 'w') as f_out:\n",
    "    for result in validation_results:\n",
    "        print(json.dumps(result), file=f_out)\n",
    "print(f\"Output is saved at {savepath}\")"
   ]
  },
  {
   "cell_type": "markdown",
   "metadata": {},
   "source": [
    "### Inspect validation results"
   ]
  },
  {
   "cell_type": "code",
   "execution_count": 59,
   "metadata": {},
   "outputs": [
    {
     "name": "stdout",
     "output_type": "stream",
     "text": [
      "Reading ../output/2021-12-15-2227/validation-combined-noaliases.jsonl\n"
     ]
    }
   ],
   "source": [
    "# load validation results\n",
    "filepath = path.join(\n",
    "    output_dir, \"2021-12-15-2227\", \"validation-combined-noaliases.jsonl\")\n",
    "\n",
    "validation_results = read(filepath)"
   ]
  },
  {
   "cell_type": "code",
   "execution_count": 60,
   "metadata": {},
   "outputs": [
    {
     "name": "stderr",
     "output_type": "stream",
     "text": [
      "posx and posy should be finite values\n",
      "posx and posy should be finite values\n",
      "posx and posy should be finite values\n",
      "posx and posy should be finite values\n",
      "posx and posy should be finite values\n",
      "posx and posy should be finite values\n",
      "posx and posy should be finite values\n",
      "posx and posy should be finite values\n",
      "posx and posy should be finite values\n",
      "posx and posy should be finite values\n"
     ]
    },
    {
     "data": {
      "image/png": "[encoded data removed]",
      "text/plain": [
       "<Figure size 432x288 with 1 Axes>"
      ]
     },
     "metadata": {
      "needs_background": "light"
     },
     "output_type": "display_data"
    }
   ],
   "source": [
    "# plot coherence vs num_topics\n",
    "num_topics = [_['num_topics'] for _ in validation_results]\n",
    "coherences = np.array([_['coherence'] for _ in validation_results])\n",
    "plt.plot(num_topics, coherences)\n",
    "\n",
    "# annotate top three coherence scores\n",
    "best_indices = np.argsort(coherences)[-5:]\n",
    "for i in best_indices:\n",
    "    bestk = num_topics[i]\n",
    "    score = coherences[i]\n",
    "    plt.plot(bestk, score, marker='x', color='black')\n",
    "    plt.text(\n",
    "        x=bestk+1, y=score, s=f\"({bestk}, {score:.4})\")\n",
    "\n",
    "plt.title(\"Coherence against number of topics\")\n",
    "plt.ylabel(\"coherence\")\n",
    "plt.xlabel(\"number of topics\")\n",
    "plt.show()"
   ]
  },
  {
   "cell_type": "code",
   "execution_count": 62,
   "metadata": {},
   "outputs": [
    {
     "name": "stdout",
     "output_type": "stream",
     "text": [
      "[{'num_topics': 1, 'coherence': 0.29800223195986236}, {'num_topics': 2, 'coherence': 0.48242024158271574}, {'num_topics': 3, 'coherence': nan}, {'num_topics': 4, 'coherence': nan}, {'num_topics': 5, 'coherence': nan}, {'num_topics': 6, 'coherence': nan}, {'num_topics': 7, 'coherence': nan}, {'num_topics': 8, 'coherence': nan}, {'num_topics': 9, 'coherence': nan}, {'num_topics': 10, 'coherence': nan}, {'num_topics': 11, 'coherence': nan}, {'num_topics': 12, 'coherence': nan}, {'num_topics': 13, 'coherence': nan}, {'num_topics': 14, 'coherence': nan}, {'num_topics': 15, 'coherence': nan}, {'num_topics': 16, 'coherence': nan}, {'num_topics': 17, 'coherence': nan}, {'num_topics': 18, 'coherence': nan}, {'num_topics': 19, 'coherence': nan}, {'num_topics': 20, 'coherence': nan}, {'num_topics': 21, 'coherence': nan}, {'num_topics': 22, 'coherence': nan}, {'num_topics': 23, 'coherence': nan}, {'num_topics': 24, 'coherence': nan}, {'num_topics': 25, 'coherence': nan}, {'num_topics': 26, 'coherence': nan}, {'num_topics': 27, 'coherence': nan}, {'num_topics': 28, 'coherence': nan}, {'num_topics': 29, 'coherence': nan}, {'num_topics': 30, 'coherence': nan}, {'num_topics': 31, 'coherence': nan}, {'num_topics': 32, 'coherence': nan}, {'num_topics': 33, 'coherence': nan}, {'num_topics': 34, 'coherence': nan}, {'num_topics': 35, 'coherence': nan}, {'num_topics': 36, 'coherence': nan}, {'num_topics': 37, 'coherence': nan}, {'num_topics': 38, 'coherence': nan}, {'num_topics': 39, 'coherence': nan}, {'num_topics': 40, 'coherence': nan}, {'num_topics': 41, 'coherence': nan}, {'num_topics': 42, 'coherence': nan}, {'num_topics': 43, 'coherence': nan}, {'num_topics': 44, 'coherence': nan}, {'num_topics': 45, 'coherence': nan}, {'num_topics': 46, 'coherence': nan}, {'num_topics': 47, 'coherence': nan}, {'num_topics': 48, 'coherence': nan}, {'num_topics': 49, 'coherence': nan}, {'num_topics': 50, 'coherence': nan}]\n"
     ]
    }
   ],
   "source": [
    "print(validation_results)"
   ]
  },
  {
   "cell_type": "code",
   "execution_count": null,
   "metadata": {},
   "outputs": [],
   "source": []
  }
 ],
 "metadata": {
  "interpreter": {
   "hash": "c0cbf83f386be72fb09ce1533e61cd8390e8946deb354eec8506115de424271a"
  },
  "kernelspec": {
   "display_name": "Python 3.9.0 64-bit ('bizres': conda)",
   "language": "python",
   "name": "python3"
  },
  "language_info": {
   "codemirror_mode": {
    "name": "ipython",
    "version": 3
   },
   "file_extension": ".py",
   "mimetype": "text/x-python",
   "name": "python",
   "nbconvert_exporter": "python",
   "pygments_lexer": "ipython3",
   "version": "3.9.0"
  },
  "orig_nbformat": 4
 },
 "nbformat": 4,
 "nbformat_minor": 2
}
