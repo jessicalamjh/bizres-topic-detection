{
 "cells": [
  {
   "cell_type": "code",
   "execution_count": 6,
   "metadata": {},
   "outputs": [],
   "source": [
    "from datetime import datetime\n",
    "import json\n",
    "import os\n",
    "import os.path as path\n",
    "from tqdm import tqdm\n",
    "\n",
    "import numpy as np\n",
    "import pandas as pd\n",
    "import matplotlib.pyplot as plt\n",
    "from pprint import pprint\n",
    "\n",
    "from gensim.corpora import Dictionary\n",
    "from gensim.models import LdaModel, LdaMulticore, CoherenceModel\n",
    "from gensim.models.phrases import Phraser, Phrases, ENGLISH_CONNECTOR_WORDS"
   ]
  },
  {
   "cell_type": "code",
   "execution_count": 2,
   "metadata": {},
   "outputs": [],
   "source": [
    "# directories\n",
    "output_dir = \"../output\"\n",
    "data_dir = \"../data\"\n",
    "selfparsed_dir = path.join(data_dir, \"selfparsed\")\n",
    "\n",
    "# misc\n",
    "GROUPS = ['other', 'sustainability']\n",
    "pd.set_option('display.max_colwidth', None)"
   ]
  },
  {
   "cell_type": "markdown",
   "metadata": {},
   "source": [
    "## Functions"
   ]
  },
  {
   "cell_type": "code",
   "execution_count": 31,
   "metadata": {},
   "outputs": [],
   "source": [
    "# various utility functions\n",
    "def get_timestamp():\n",
    "    return datetime.now().strftime(\"%Y-%m-%d-%H%M\")\n",
    "\n",
    "def read(filepath, max_lines=None):\n",
    "    # check arguments\n",
    "    assert path.exists(filepath)\n",
    "    if max_lines:\n",
    "        assert isinstance(max_lines, int) and max_lines > 0\n",
    "\n",
    "    print(f\"Reading {filepath}\")\n",
    "\n",
    "    # read multi-line json file\n",
    "    if filepath.endswith(\".jsonl\"):\n",
    "        data = []\n",
    "        with open(filepath, 'r') as f:\n",
    "            for i, line in enumerate(f):\n",
    "                if i == max_lines:\n",
    "                    break\n",
    "                data.append(json.loads(line))\n",
    "    \n",
    "    # read single-line json file\n",
    "    elif filepath.endswith(\".json\"):\n",
    "        with open(filepath, 'r') as f:\n",
    "            data = json.load(f)\n",
    "\n",
    "    # read possibly multi-line text file\n",
    "    elif filepath.endswith(\".txt\"):\n",
    "        with open(filepath, 'r') as f:\n",
    "            data = f.readlines()[:max_lines]\n",
    "\n",
    "    else:\n",
    "        print(f\"The extension for {filepath} is not yet handled\")\n",
    "        data = []\n",
    "    return data\n",
    "\n",
    "# format LDA topics detected for readability\n",
    "def get_formatted_topics(lda_model):\n",
    "    formatted_topics = []\n",
    "    for _, topic in lda_model.show_topics():\n",
    "        entries = []\n",
    "        for entry in topic.split(\" + \"):\n",
    "            score, word = entry.split(\"*\")\n",
    "            score = float(score)\n",
    "            word = word.strip().replace(\"\\\"\", '')\n",
    "            entries.append((score, word))\n",
    "        formatted_topics.append(entries)\n",
    "    return formatted_topics"
   ]
  },
  {
   "cell_type": "code",
   "execution_count": 32,
   "metadata": {},
   "outputs": [],
   "source": [
    "def process(texts, no_below=10, no_above=0.4):\n",
    "    print(\"\\nBuilding phrased texts, id2word, and word_ids\")\n",
    "    # returns phrased texts, id2word, and word_ids for input texts\n",
    "\n",
    "    # create corpus of bigrams from input texts\n",
    "    bigram_phraser = Phrases(texts, min_count=10)\n",
    "    texts = [bigram_phraser[text] for text in texts]\n",
    "\n",
    "    # create id2word and filter extremes\n",
    "    id2word = Dictionary(texts)\n",
    "    print(f\"Size of original id2word: {len(id2word)}\")\n",
    "\n",
    "    id2word.filter_extremes(no_below=no_below, no_above=no_above)\n",
    "    print(f\"Size of filtered id2word: {len(id2word)}\")\n",
    "\n",
    "    # build BoW embeddings\n",
    "    word_ids = [id2word.doc2bow(text) for text in texts]\n",
    "\n",
    "    return texts, id2word, word_ids"
   ]
  },
  {
   "cell_type": "code",
   "execution_count": 33,
   "metadata": {},
   "outputs": [],
   "source": [
    "# validation function for determining best num_topics\n",
    "def validate(\n",
    "    texts, id2word, word_ids, num_topics_range, \n",
    "    coherence='c_v', workers=1):\n",
    "    # return dictionary of coherence score at each num_topics value\n",
    "\n",
    "    print(f\"\\nValidating LDA model for coherence over {num_topics_range}\")\n",
    "\n",
    "    validation_results = []\n",
    "    for num_topics in tqdm(num_topics_range):\n",
    "        # initialise LDA model\n",
    "        if workers == 1:\n",
    "            lda_model = LdaModel(\n",
    "                corpus=word_ids, \n",
    "                id2word=id2word,\n",
    "                num_topics=num_topics,\n",
    "                alpha='auto',\n",
    "                eta='auto',\n",
    "                random_state=1,\n",
    "            )\n",
    "        else:\n",
    "            lda_model = LdaMulticore(\n",
    "                corpus=word_ids, \n",
    "                id2word=id2word,\n",
    "                num_topics=num_topics,\n",
    "                workers=workers,\n",
    "                random_state=1,\n",
    "            )\n",
    "        \n",
    "        # initialise coherence evaluation model\n",
    "        coherence_model = CoherenceModel(\n",
    "            model=lda_model,\n",
    "            texts=texts,\n",
    "            dictionary=id2word,\n",
    "            coherence=coherence,\n",
    "        )\n",
    "\n",
    "        # compute coherence and detected topics\n",
    "        result = {\n",
    "            'num_topics': num_topics, \n",
    "            'coherence': coherence_model.get_coherence(), \n",
    "            'topics': get_formatted_topics(lda_model)\n",
    "        }\n",
    "        validation_results.append(result)\n",
    "\n",
    "    return validation_results"
   ]
  },
  {
   "cell_type": "markdown",
   "metadata": {},
   "source": [
    "## Run validation"
   ]
  },
  {
   "cell_type": "code",
   "execution_count": 34,
   "metadata": {},
   "outputs": [
    {
     "name": "stdout",
     "output_type": "stream",
     "text": [
      "Reading ../data/selfparsed/preprocessed-english-other-noaliases.jsonl\n",
      "Reading ../data/selfparsed/preprocessed-english-sustainability-noaliases.jsonl\n",
      "Number of texts: 153\n"
     ]
    }
   ],
   "source": [
    "# load data\n",
    "data = []\n",
    "for group in GROUPS:\n",
    "    filepath = path.join(\n",
    "        selfparsed_dir, f\"preprocessed-english-{group}-noaliases.jsonl\")\n",
    "    group_data = read(filepath)\n",
    "    data.extend(group_data)\n",
    "\n",
    "# get texts as list of paragraphs across all documents\n",
    "print(f\"Number of texts: {len(data)}\")"
   ]
  },
  {
   "cell_type": "code",
   "execution_count": 35,
   "metadata": {},
   "outputs": [
    {
     "name": "stdout",
     "output_type": "stream",
     "text": [
      "Number of paragraphs: 42527\n"
     ]
    }
   ],
   "source": [
    "# TODO: find reasonable and optimal requirements on paragraph lengths\n",
    "# for now, set min length of 5 tokens and max length of 400 tokens\n",
    "paragraphs = []\n",
    "for text in [x['preprocessed'] for x in data]:\n",
    "    for para in text:\n",
    "        if len(para) > 10:\n",
    "            paragraphs.append(para)\n",
    "            \n",
    "print(f\"Number of paragraphs: {len(paragraphs)}\")"
   ]
  },
  {
   "cell_type": "code",
   "execution_count": 36,
   "metadata": {},
   "outputs": [
    {
     "name": "stdout",
     "output_type": "stream",
     "text": [
      "\n",
      "Building phrased texts, id2word, and word_ids\n",
      "Size of original id2word: 43926\n",
      "Size of filtered id2word: 17421\n",
      "\n",
      "Validating LDA model for coherence over range(1, 3)\n"
     ]
    },
    {
     "name": "stderr",
     "output_type": "stream",
     "text": [
      "100%|██████████| 2/2 [00:24<00:00, 12.37s/it]"
     ]
    },
    {
     "name": "stdout",
     "output_type": "stream",
     "text": [
      "Validation results are saved at ../output/2021-12-17-1857/validation-combined-noaliases.jsonl\n"
     ]
    },
    {
     "name": "stderr",
     "output_type": "stream",
     "text": [
      "\n"
     ]
    }
   ],
   "source": [
    "# choose num_topics based on coherence\n",
    "# change flag to 'True' to run\n",
    "if True:\n",
    "\n",
    "    # process paragraphs as documents\n",
    "    phrased_paragraphs, id2word, word_ids = process(\n",
    "        texts=paragraphs,\n",
    "        no_below=5,\n",
    "        no_above=0.5,\n",
    "    )\n",
    "\n",
    "    # run validation\n",
    "    validation_results = validate(\n",
    "        texts=phrased_paragraphs, \n",
    "        id2word=id2word, \n",
    "        word_ids=word_ids, \n",
    "        num_topics_range=range(1, 3, 1),\n",
    "        coherence='c_v'\n",
    "    )\n",
    "        \n",
    "    # prepare save directory and path\n",
    "    save_dir = path.join(output_dir, get_timestamp())\n",
    "    os.mkdir(save_dir)\n",
    "    \n",
    "    # export validation results\n",
    "    outpath = path.join(save_dir, \"validation-combined-noaliases.jsonl\")\n",
    "    with open(outpath, 'w') as f_out:\n",
    "        for result in validation_results:\n",
    "            print(json.dumps(result), file=f_out)\n",
    "    print(f\"Validation results are saved at {outpath}\")\n"
   ]
  },
  {
   "cell_type": "markdown",
   "metadata": {},
   "source": [
    "### Inspect validation results"
   ]
  },
  {
   "cell_type": "code",
   "execution_count": 42,
   "metadata": {},
   "outputs": [
    {
     "name": "stdout",
     "output_type": "stream",
     "text": [
      "Reading ../output/2021-12-17-1635/validation-combined-noaliases.jsonl\n"
     ]
    }
   ],
   "source": [
    "# load validation results\n",
    "# replace with appropriate timestamp\n",
    "filepath = path.join(\n",
    "    output_dir, \"2021-12-17-1635\", \"validation-combined-noaliases.jsonl\")\n",
    "\n",
    "validation_results = read(filepath)"
   ]
  },
  {
   "cell_type": "code",
   "execution_count": 55,
   "metadata": {},
   "outputs": [],
   "source": [
    "# output reader friendly validation_results\n",
    "outpath = path.join(\n",
    "    path.dirname(filepath), \"formatted-\" + path.basename(filepath))\n",
    "with open(outpath, 'w') as f_out:\n",
    "    for x in validation_results:\n",
    "        print(\n",
    "            f\"num_topics = {x['num_topics']}, coherence = {x['coherence']:.5}\",\n",
    "            file=f_out)\n",
    "\n",
    "        for topic in x['topics']:\n",
    "            words = [entry[1] for entry in topic]\n",
    "            print(\"- \" + \" \".join(words), file=f_out)\n",
    "        print(\"\", file=f_out)"
   ]
  },
  {
   "cell_type": "code",
   "execution_count": 43,
   "metadata": {},
   "outputs": [
    {
     "data": {
      "image/png": "[encoded data removed]",
      "text/plain": [
       "<Figure size 432x288 with 1 Axes>"
      ]
     },
     "metadata": {
      "needs_background": "light"
     },
     "output_type": "display_data"
    }
   ],
   "source": [
    "# plot coherence vs num_topics\n",
    "num_topics = [_['num_topics'] for _ in validation_results]\n",
    "coherences = np.array([_['coherence'] for _ in validation_results])\n",
    "\n",
    "plt.ylim(min(coherences), max(coherences) + 0.1)\n",
    "plt.plot(num_topics, coherences)\n",
    "\n",
    "# annotate top three coherence scores\n",
    "best_indices = np.argsort(coherences)[-3:]\n",
    "for i in best_indices:\n",
    "    bestk = num_topics[i]\n",
    "    score = coherences[i]\n",
    "    plt.plot(bestk, score, marker='x', color='black')\n",
    "    plt.text(\n",
    "        x=bestk, y=score+0.02, s=f\"({bestk}, {score:.4})\", \n",
    "        horizontalalignment='center')\n",
    "\n",
    "plt.title(\"Coherence against number of topics\")\n",
    "plt.ylabel(\"coherence\")\n",
    "plt.xlabel(\"number of topics\")\n",
    "plt.show()"
   ]
  },
  {
   "cell_type": "code",
   "execution_count": null,
   "metadata": {},
   "outputs": [],
   "source": []
  }
 ],
 "metadata": {
  "interpreter": {
   "hash": "c0cbf83f386be72fb09ce1533e61cd8390e8946deb354eec8506115de424271a"
  },
  "kernelspec": {
   "display_name": "Python 3.9.0 64-bit ('bizres': conda)",
   "language": "python",
   "name": "python3"
  },
  "language_info": {
   "codemirror_mode": {
    "name": "ipython",
    "version": 3
   },
   "file_extension": ".py",
   "mimetype": "text/x-python",
   "name": "python",
   "nbconvert_exporter": "python",
   "pygments_lexer": "ipython3",
   "version": "3.9.0"
  },
  "orig_nbformat": 4
 },
 "nbformat": 4,
 "nbformat_minor": 2
}
