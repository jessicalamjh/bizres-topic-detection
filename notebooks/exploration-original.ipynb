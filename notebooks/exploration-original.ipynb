{
 "cells": [
  {
   "cell_type": "code",
   "execution_count": 17,
   "metadata": {},
   "outputs": [],
   "source": [
    "from collections import Counter\n",
    "import json\n",
    "import os\n",
    "import os.path as path\n",
    "import random\n",
    "import re\n",
    "from tqdm import tqdm\n",
    "\n",
    "import numpy as np\n",
    "import matplotlib.pyplot as plt\n",
    "import string\n",
    "\n",
    "import fasttext\n",
    "import spacy\n",
    "from nltk.corpus import stopwords"
   ]
  },
  {
   "cell_type": "code",
   "execution_count": 18,
   "metadata": {},
   "outputs": [],
   "source": [
    "# directories\n",
    "data_dir = \"../data\"\n",
    "original_dir = path.join(data_dir, \"original\")"
   ]
  },
  {
   "cell_type": "markdown",
   "metadata": {},
   "source": [
    "## Language detection"
   ]
  },
  {
   "cell_type": "code",
   "execution_count": 6,
   "metadata": {},
   "outputs": [
    {
     "name": "stderr",
     "output_type": "stream",
     "text": [
      "Warning : `load_model` does not return WordVectorModel or SupervisedModel any more, but a `FastText` object which is very similar.\n",
      "100%|██████████| 121/121 [00:03<00:00, 38.58it/s]\n",
      "100%|██████████| 135/135 [00:02<00:00, 62.63it/s]\n"
     ]
    },
    {
     "name": "stdout",
     "output_type": "stream",
     "text": [
      "\n",
      "group: other\n",
      "- __label__fr: 2\n",
      "- __label__de: 40\n",
      "- __label__en: 79\n",
      "\n",
      "group: sustainability\n",
      "- __label__fr: 2\n",
      "- __label__de: 58\n",
      "- __label__en: 75\n"
     ]
    }
   ],
   "source": [
    "# combine english texts from both groups into single file\n",
    "outpath = path.join(original_dir, \"english-combined.jsonl\")\n",
    "\n",
    "if not path.exists(outpath):\n",
    "    # prepare pretrained language detector\n",
    "    language_detector = fasttext.load_model(\"../models/fasttext-lid.176.bin\")\n",
    "\n",
    "    # load data and label with language\n",
    "    all_texts = {'other': [], 'sustainability': []}\n",
    "    for group in all_texts.keys():\n",
    "        group_dir = path.join(original_dir, group)\n",
    "        filenames = [_ for _ in os.listdir(group_dir) if _.endswith(\".txt\")]\n",
    "\n",
    "        group_texts = []\n",
    "        languages = set()\n",
    "        for filename in tqdm(filenames):\n",
    "            filepath = path.join(group_dir, filename)\n",
    "            with open(filepath, 'r') as f:\n",
    "                text = f.read()\n",
    "                text = text.replace(\"\\n\", \" \")\n",
    "                lang = language_detector.predict(text)\n",
    "\n",
    "                group_texts.append({\n",
    "                    'filepath': filepath,\n",
    "                    'text': text,\n",
    "                    'language': lang[0][0],\n",
    "                    'probability': lang[1][0] \n",
    "                })\n",
    "                languages.add(lang[0][0])\n",
    "\n",
    "        all_texts[group] = group_texts\n",
    "\n",
    "    for group, texts in all_texts.items():\n",
    "        print(f\"\\ngroup: {group}\")\n",
    "        for lang in languages:\n",
    "            print(f\"- {lang}: {sum([x['language'] == lang for x in texts])}\")\n",
    "\n",
    "    # export english texts\n",
    "    with open(outpath, 'w') as f_out:\n",
    "        for group, texts in all_texts.items():\n",
    "            for x in texts:\n",
    "                if x['language'] != '__label__en':\n",
    "                    continue\n",
    "                \n",
    "                x['group'] = group\n",
    "                print(json.dumps(x), file=f_out)"
   ]
  },
  {
   "cell_type": "markdown",
   "metadata": {},
   "source": [
    "## Preprocessing\n",
    "\n",
    "- lowercase everything\n",
    "- tokenise into sentences and then into tokens\n",
    "- lemmatise every token\n",
    "- remove numbers and punctuation from all tokens\n",
    "- remove empty tokens and unnecessary whitespaces\n",
    "- remove stopwords"
   ]
  },
  {
   "cell_type": "code",
   "execution_count": 19,
   "metadata": {},
   "outputs": [
    {
     "name": "stderr",
     "output_type": "stream",
     "text": [
      "154it [00:00, 339.29it/s]\n"
     ]
    }
   ],
   "source": [
    "# load data\n",
    "filepath = path.join(original_dir, \"english-combined.jsonl\")\n",
    "\n",
    "data = []\n",
    "with open(filepath, 'r') as f:\n",
    "    for line in tqdm(f):\n",
    "        x = json.loads(line)\n",
    "        \n",
    "        # ignore anything that is not ascii\n",
    "        x['text'] = x['text'].encode(\"ascii\", \"ignore\").decode()\n",
    "        data.append(x)"
   ]
  },
  {
   "cell_type": "code",
   "execution_count": 8,
   "metadata": {},
   "outputs": [
    {
     "data": {
      "text/plain": [
       "<spacy.pipeline.sentencizer.Sentencizer at 0x7f0be62559c0>"
      ]
     },
     "execution_count": 8,
     "metadata": {},
     "output_type": "execute_result"
    }
   ],
   "source": [
    "# NLP prep: stopwords and SpaCy tokenizer\n",
    "stop = set(stopwords.words(\"english\"))\n",
    "\n",
    "nlp = spacy.load(\"en_core_web_sm\", disable=[\"parser\", \"ner\"])\n",
    "nlp.add_pipe('sentencizer')"
   ]
  },
  {
   "cell_type": "code",
   "execution_count": 9,
   "metadata": {},
   "outputs": [],
   "source": [
    "# helper functions\n",
    "def clean(sent):\n",
    "    # return list of lemmatized, lowercased tokens\n",
    "\n",
    "    cleaned_sent = []\n",
    "    for token in sent:\n",
    "        token = token.lemma_.lower()\n",
    "\n",
    "        # remove all numbers, punctuation, and trailing/leading whitespace\n",
    "        token = token.translate(\n",
    "            str.maketrans('', '', string.digits + string.punctuation))\n",
    "        token = token.strip()\n",
    "\n",
    "        # ignore tokens that are empty or in stopwords\n",
    "        if len(token) > 0 and token not in stop:\n",
    "            cleaned_sent.append(token) # lemmatize, lowercase\n",
    "\n",
    "    return cleaned_sent\n",
    "\n",
    "def preprocess(text):\n",
    "    # return list of cleaned, tokenized sentences\n",
    "\n",
    "    doc = nlp(text)\n",
    "    cleaned_sents = [clean(sent) for sent in doc.sents]\n",
    "    return [sent for sent in cleaned_sents if sent]"
   ]
  },
  {
   "cell_type": "code",
   "execution_count": 10,
   "metadata": {},
   "outputs": [
    {
     "name": "stderr",
     "output_type": "stream",
     "text": [
      "100%|██████████| 154/154 [08:51<00:00,  3.45s/it]\n"
     ]
    }
   ],
   "source": [
    "# increase max length allowed by spacy tokenizer\n",
    "num_chars = [len(x['text']) for x in data]\n",
    "nlp.max_length = max(num_chars) + 1\n",
    "\n",
    "# preprocess and export texts\n",
    "outpath = path.join(data_dir, \"preprocessed-original.jsonl\")\n",
    "\n",
    "if not path.exists(outpath):\n",
    "    f_out = open(outpath, 'w')\n",
    "    for x in tqdm(data):\n",
    "        x['preprocessed_text'] = preprocess(x['text'])\n",
    "        print(json.dumps(x), file=f_out)\n",
    "    f_out.close()"
   ]
  },
  {
   "cell_type": "markdown",
   "metadata": {},
   "source": [
    "## Exploration"
   ]
  },
  {
   "cell_type": "code",
   "execution_count": 20,
   "metadata": {},
   "outputs": [
    {
     "name": "stdout",
     "output_type": "stream",
     "text": [
      "Total size: 154\n",
      "Group sizes: [('other', 79), ('sustainability', 75)]\n"
     ]
    }
   ],
   "source": [
    "# load preprocessed data\n",
    "data = {'other': [], 'sustainability': []}\n",
    "\n",
    "filepath = path.join(data_dir, \"preprocessed-original.jsonl\")\n",
    "with open(filepath, 'r') as f:\n",
    "    for line in f:\n",
    "        x = json.loads(line)\n",
    "        data[x['group']].append(x)\n",
    "\n",
    "print(f\"Total size: {sum([len(v) for v in data.values()])}\")\n",
    "print(f\"Group sizes: {[(k, len(v)) for k, v in data.items()]}\")"
   ]
  },
  {
   "cell_type": "code",
   "execution_count": 22,
   "metadata": {},
   "outputs": [
    {
     "data": {
      "text/plain": [
       "['annual',\n",
       " 'report',\n",
       " 'steady',\n",
       " 'course',\n",
       " 'ready',\n",
       " 'future',\n",
       " 'gf',\n",
       " 'annual',\n",
       " 'report',\n",
       " 'content',\n",
       " 'business',\n",
       " 'report',\n",
       " 'key',\n",
       " 'figure',\n",
       " 'corporation',\n",
       " 'gf',\n",
       " 'piping',\n",
       " 'systems',\n",
       " 'gf',\n",
       " 'casting',\n",
       " 'solutions',\n",
       " 'gf',\n",
       " 'machining',\n",
       " 'solutions',\n",
       " 'employee',\n",
       " 'company',\n",
       " 'strategy',\n",
       " 'letter',\n",
       " 'shareholder',\n",
       " 'highlight',\n",
       " 'sustainability',\n",
       " 'gf',\n",
       " 'organization',\n",
       " 'gf',\n",
       " 'success',\n",
       " 'stories',\n",
       " 'gf',\n",
       " 'piping',\n",
       " 'systems',\n",
       " 'gf',\n",
       " 'cast',\n",
       " 'solutions',\n",
       " 'gf',\n",
       " 'machining',\n",
       " 'solutions',\n",
       " 'corporate',\n",
       " 'governance',\n",
       " 'introduction',\n",
       " 'content',\n",
       " 'report',\n",
       " 'governance',\n",
       " 'body',\n",
       " 'gf',\n",
       " 'share',\n",
       " 'shareholder',\n",
       " 'board',\n",
       " 'directors',\n",
       " 'member',\n",
       " 'board',\n",
       " 'directors',\n",
       " 'executive',\n",
       " 'committee',\n",
       " 'member',\n",
       " 'executive',\n",
       " 'committee',\n",
       " 'auditors',\n",
       " 'communication',\n",
       " 'policy',\n",
       " 'change',\n",
       " 'balance',\n",
       " 'sheet',\n",
       " 'date',\n",
       " 'gf',\n",
       " 'annual',\n",
       " 'report',\n",
       " 'compensation',\n",
       " 'report',\n",
       " 'introduction',\n",
       " 'compensation',\n",
       " 'glance',\n",
       " 'contents',\n",
       " 'compensation',\n",
       " 'governance',\n",
       " 'compensation',\n",
       " 'structure',\n",
       " 'compensation',\n",
       " 'financial',\n",
       " 'year',\n",
       " 'outlook',\n",
       " 'report',\n",
       " 'statutory',\n",
       " 'auditor',\n",
       " 'financial',\n",
       " 'report',\n",
       " 'consolidated',\n",
       " 'financial',\n",
       " 'statement',\n",
       " 'consolidated',\n",
       " 'income',\n",
       " 'statement',\n",
       " 'consolidated',\n",
       " 'balance',\n",
       " 'sheet',\n",
       " 'consolidated',\n",
       " 'statement',\n",
       " 'change',\n",
       " 'equity',\n",
       " 'consolidated',\n",
       " 'cash',\n",
       " 'flow',\n",
       " 'statement',\n",
       " 'notes',\n",
       " 'consolidated',\n",
       " 'financial',\n",
       " 'statement',\n",
       " 'information',\n",
       " 'report']"
      ]
     },
     "execution_count": 22,
     "metadata": {},
     "output_type": "execute_result"
    }
   ],
   "source": [
    "data['other'][0]['preprocessed_text'][0]"
   ]
  },
  {
   "cell_type": "code",
   "execution_count": 13,
   "metadata": {},
   "outputs": [
    {
     "data": {
      "image/png": "[encoded data removed]",
      "text/plain": [
       "<Figure size 432x288 with 2 Axes>"
      ]
     },
     "metadata": {
      "needs_background": "light"
     },
     "output_type": "display_data"
    },
    {
     "data": {
      "image/png": "[encoded data removed]",
      "text/plain": [
       "<Figure size 432x288 with 2 Axes>"
      ]
     },
     "metadata": {
      "needs_background": "light"
     },
     "output_type": "display_data"
    }
   ],
   "source": [
    "# length of documents and sentences\n",
    "f, axes = plt.subplots(1, 2)\n",
    "f.suptitle(\"Length of documents in sentences\")\n",
    "for i, group in enumerate(data.keys()):\n",
    "    num_sents = [len(x['preprocessed_text']) for x in data[group]]\n",
    "    axes[i].hist(num_sents, edgecolor='black')\n",
    "    axes[i].set_title(f\"group: {group}\")\n",
    "    axes[i].set_xlabel(\"number of sentences\")\n",
    "    axes[i].set_ylabel(\"number of documents\")\n",
    "plt.tight_layout()\n",
    "plt.show()\n",
    "\n",
    "f, axes = plt.subplots(1, 2)\n",
    "f.suptitle(\"Length of sentences in tokens\")\n",
    "for i, group in enumerate(data.keys()):\n",
    "    sent_lengths = [\n",
    "        len(sent) for x in data[group] for sent in x['preprocessed_text']]\n",
    "    axes[i].boxplot(sent_lengths)\n",
    "    axes[i].set_title(f\"group: {group}\")\n",
    "    axes[i].set_ylabel(\"number of tokens\")\n",
    "plt.tight_layout()\n",
    "plt.show()"
   ]
  },
  {
   "cell_type": "code",
   "execution_count": 14,
   "metadata": {},
   "outputs": [
    {
     "data": {
      "image/png": "[encoded data removed]",
      "text/plain": [
       "<Figure size 432x288 with 2 Axes>"
      ]
     },
     "metadata": {
      "needs_background": "light"
     },
     "output_type": "display_data"
    }
   ],
   "source": [
    "# size of document-wise vocabularies\n",
    "f, axes = plt.subplots(1, 2)\n",
    "f.suptitle(\"Number of unique tokens per document\")\n",
    "\n",
    "vocabulary = {}\n",
    "for i, group in enumerate(data.keys()):\n",
    "    group_vocabs = []\n",
    "    for x in data[group]:\n",
    "        tokens = [tok for sent in x['preprocessed_text'] for tok in sent]\n",
    "        group_vocabs.append(Counter(tokens))\n",
    "    vocabulary[group] = group_vocabs\n",
    "\n",
    "    axes[i].hist([len(v) for v in group_vocabs], edgecolor='black')\n",
    "    axes[i].set_title(f\"group: {group}\")\n",
    "    axes[i].set_xlabel(\"number of unique tokens\")\n",
    "    axes[i].set_ylabel(\"number of documents\")\n",
    "    \n",
    "plt.tight_layout()\n",
    "plt.show()"
   ]
  },
  {
   "cell_type": "code",
   "execution_count": 15,
   "metadata": {},
   "outputs": [
    {
     "name": "stdout",
     "output_type": "stream",
     "text": [
      "Number of unique tokens in other: 36571\n",
      "Number of unique tokens in sustainability: 33370\n"
     ]
    },
    {
     "data": {
      "image/png": "[encoded data removed]",
      "text/plain": [
       "<Figure size 576x360 with 2 Axes>"
      ]
     },
     "metadata": {
      "needs_background": "light"
     },
     "output_type": "display_data"
    }
   ],
   "source": [
    "# current number of unique tokens in all documents\n",
    "total_vocabulary = {}\n",
    "for group, group_vocabs in vocabulary.items():\n",
    "    total_group_vocab = Counter()\n",
    "    for v in group_vocabs:\n",
    "        total_group_vocab.update(v)\n",
    "    total_vocabulary[group] = total_group_vocab\n",
    "\n",
    "for group, total_group_vocab in total_vocabulary.items():\n",
    "    print(f\"Number of unique tokens in {group}: {len(total_group_vocab)}\")\n",
    "\n",
    "f, axes = plt.subplots(1, 2, figsize=(8, 5))\n",
    "for i, group in enumerate(total_vocabulary.keys()):\n",
    "    tokens, freq = zip(*total_vocabulary[group].most_common(20)[::-1])\n",
    "    axes[i].barh(tokens, freq)\n",
    "    \n",
    "    axes[i].set_title(f\"group: {group}\")\n",
    "    axes[i].set_xlabel(\"frequency\")\n",
    "    axes[i].set_ylabel(\"token\")\n",
    "\n",
    "f.suptitle(\"Most frequent tokens within each group\")\n",
    "plt.tight_layout()\n",
    "plt.show()"
   ]
  },
  {
   "cell_type": "code",
   "execution_count": 16,
   "metadata": {},
   "outputs": [
    {
     "name": "stdout",
     "output_type": "stream",
     "text": [
      "group = other\n",
      "Number of tokens with freq < 10: 28114\n",
      "Examples: ['stories', 'annualreportgeorgfischercom', 'andhigh', 'jointing', 'customizing', 'prefabrication', 'microelectronic', 'hycleen', 'insulate', 'prestigious']\n",
      "\n",
      "group = sustainability\n",
      "Number of tokens with freq < 10: 26587\n",
      "Examples: ['porto', 'sudeste', 'deconsolidate', 'midland', 'texas', 'launder', 'ferrous', 'regrettably', 'lithium', 'ion']\n",
      "\n"
     ]
    }
   ],
   "source": [
    "# how many tokens appear only rarely?\n",
    "min_freq = 10\n",
    "for group, total_group_vocab in total_vocabulary.items():\n",
    "    rare_tokens = [\n",
    "        tok for tok, freq in total_group_vocab.items() if freq < min_freq\n",
    "    ]\n",
    "\n",
    "    print(f\"group = {group}\")\n",
    "    print(f\"Number of tokens with freq < {min_freq}: {len(rare_tokens)}\")\n",
    "    print(f\"Examples: {rare_tokens[:10]}\\n\")"
   ]
  }
 ],
 "metadata": {
  "interpreter": {
   "hash": "a8e11233f63ad1bce92249769de79d96bc3ec31b0fae51e14fb444cd5deb6e19"
  },
  "kernelspec": {
   "display_name": "Python 3.9.0 64-bit ('python3.9': conda)",
   "language": "python",
   "name": "python3"
  },
  "language_info": {
   "codemirror_mode": {
    "name": "ipython",
    "version": 3
   },
   "file_extension": ".py",
   "mimetype": "text/x-python",
   "name": "python",
   "nbconvert_exporter": "python",
   "pygments_lexer": "ipython3",
   "version": "3.9.0"
  },
  "orig_nbformat": 4
 },
 "nbformat": 4,
 "nbformat_minor": 2
}
